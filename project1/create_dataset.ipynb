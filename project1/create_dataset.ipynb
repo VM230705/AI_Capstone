{
 "cells": [
  {
   "cell_type": "code",
   "execution_count": 1,
   "metadata": {},
   "outputs": [
    {
     "name": "stdout",
     "output_type": "stream",
     "text": [
      "輸入成功!\n"
     ]
    },
    {
     "name": "stderr",
     "output_type": "stream",
     "text": [
      "Your version is 1.0.8, please install a newer version.\n",
      "Use \"pip install finlab==1.0.9\" to update the latest version.\n"
     ]
    },
    {
     "name": "stdout",
     "output_type": "stream",
     "text": [
      "Due to your status as a free user, the most recent data has been shortened or limited.\n",
      "Daily usage: 0.9 / 500 MB - company_basic_info\n"
     ]
    }
   ],
   "source": [
    "from finlab import data\n",
    "import finlab\n",
    "import pandas as pd\n",
    "\n",
    "finlab.login(\"AiuPZ4WPXAATQGDkCCUjnGPeKpNfxa0pfe0iFPMxsNlgpZep3Qqp1KJjbwzikCtd#free\")\n",
    "\n",
    "from FinMind.data import DataLoader\n",
    "\n",
    "api = DataLoader()\n",
    "# api.login_by_token(api_token='token')\n",
    "# api.login(user_id='user_id',password='password')\n",
    "stock_info = api.taiwan_stock_info()\n",
    "company_info = data.get('company_basic_info')"
   ]
  },
  {
   "cell_type": "code",
   "execution_count": 2,
   "metadata": {},
   "outputs": [
    {
     "name": "stdout",
     "output_type": "stream",
     "text": [
      "Daily usage: 2.1 / 500 MB - financial_statement:營業收入淨額\n",
      "Daily usage: 3.3 / 500 MB - financial_statement:營業利益\n",
      "Daily usage: 4.6 / 500 MB - financial_statement:稅前淨利\n",
      "Daily usage: 5.8 / 500 MB - financial_statement:綜合損益歸屬母公司\n",
      "Daily usage: 7.1 / 500 MB - financial_statement:每股盈餘\n",
      "Daily usage: 8.3 / 500 MB - financial_statement:營業活動之淨現金流入_流出\n",
      "Daily usage: 9.5 / 500 MB - financial_statement:資產總額\n",
      "Daily usage: 10.8 / 500 MB - financial_statement:負債總額\n",
      "Daily usage: 12.0 / 500 MB - financial_statement:股東權益總額\n",
      "Daily usage: 28.8 / 500 MB - price:成交股數\n",
      "Daily usage: 40.8 / 500 MB - price:成交筆數\n",
      "Daily usage: 60.2 / 500 MB - price:成交金額\n",
      "Daily usage: 72.4 / 500 MB - price:收盤價\n",
      "Daily usage: 84.7 / 500 MB - price:開盤價\n",
      "Daily usage: 96.8 / 500 MB - price:最低價\n",
      "Daily usage: 109.0 / 500 MB - price:最高價\n",
      "Daily usage: 121.3 / 500 MB - price:最後揭示買價\n",
      "Daily usage: 133.5 / 500 MB - price:最後揭示賣價\n"
     ]
    }
   ],
   "source": [
    "df1 = data.get('financial_statement:營業收入淨額')\n",
    "df2 = data.get('financial_statement:營業利益')\n",
    "df3 = data.get('financial_statement:稅前淨利')\n",
    "df4 = data.get('financial_statement:綜合損益歸屬母公司')\n",
    "df5 = data.get('financial_statement:每股盈餘')\n",
    "df6 = data.get('financial_statement:營業活動之淨現金流入_流出')\n",
    "df7 = data.get('financial_statement:資產總額')\n",
    "df8 = data.get('financial_statement:負債總額')\n",
    "df9 = data.get('financial_statement:股東權益總額')\n",
    "tdf1 = data.get('price:成交股數')\n",
    "tdf2 = data.get('price:成交筆數')\n",
    "tdf3 = data.get('price:成交金額')\n",
    "tdf4 = data.get('price:收盤價')\n",
    "tdf5 = data.get('price:開盤價')\n",
    "tdf6 = data.get('price:最低價')\t\n",
    "tdf7 = data.get('price:最高價')\t\n",
    "tdf8 = data.get('price:最後揭示買價')\t\n",
    "tdf9 = data.get('price:最後揭示賣價')\n",
    "\n",
    "\n",
    "# 基本面指標和技術面指標的索引\n",
    "fundamental_indices = ['營業收入淨額', '營業利益', '稅前淨利', '綜合損益歸屬母公司', '每股盈餘', \n",
    "                       '營業活動之淨現金流入_流出', '資產總額', '負債總額', '股東權益總額']\n",
    "technical_indices = ['成交股數', '成交筆數', '成交金額', '收盤價', '開盤價', '最低價', '最高價', \n",
    "                     '最後揭示買價', '最後揭示賣價']\t"
   ]
  },
  {
   "cell_type": "code",
   "execution_count": 3,
   "metadata": {},
   "outputs": [],
   "source": [
    "dfs = [df1, df2, df3, df4, df5, df6, df7, df8, df9]\n",
    "\n",
    "merged_df = pd.concat(dfs, keys=['營業收入淨額', '營業利益', '稅前淨利', '綜合損益歸屬母公司', \n",
    "                '每股盈餘', '營業活動之淨現金流入_流出', '資產總額', '負債總額', '股東權益總額'])\n",
    "\n",
    "# 定義日期映射字典\n",
    "quarter_dates = {'Q1': '5-15', 'Q2': '8-14', 'Q3': '11-14', 'Q4': '3-31'}\n",
    "\n",
    "# 將財報日期解析為標準的日期格式\n",
    "def map_quarter_to_date(quarter):\n",
    "    year, quarter = quarter.split('-')\n",
    "    month, day = quarter_dates[quarter].split('-')\n",
    "    return f'{year}-{month}-{day}'\n",
    "\n",
    "# 將財報日期映射到標準日期格式\n",
    "new_dates = merged_df.index.levels[1].map(lambda x: map_quarter_to_date(x))\n",
    "merged_df.index = merged_df.index.set_levels(new_dates, level=1)\n",
    "\n",
    "merged_df_cleaned = merged_df.dropna(axis=1)\n",
    "\n",
    "merged_df.index.set_names(['indicator', 'date'], inplace=True)\n",
    "merged_df_cleaned.index.set_names(['indicator', 'date'], inplace=True)\n",
    "\n",
    "merged_df.to_csv(\"financial_data.csv\")\n",
    "merged_df_cleaned.to_csv(\"financial_data_cleaned.csv\")"
   ]
  },
  {
   "cell_type": "code",
   "execution_count": 4,
   "metadata": {},
   "outputs": [],
   "source": [
    "tdfs = [tdf1, tdf2, tdf3, tdf4, tdf5, tdf6, tdf7, tdf8, tdf9]\n",
    "\n",
    "t_merged_df = pd.concat(tdfs, keys=['成交股數', '成交筆數', '成交金額', '收盤價',\n",
    "                        '開盤價', '最低價', '最高價', '最後揭示買價', '最後揭示賣價'])\n",
    "\n",
    "t_merged_df_cleaned = t_merged_df.dropna(axis=1)\n",
    "\n",
    "t_merged_df.index.set_names(['indicator', 'date'], inplace=True)\n",
    "t_merged_df_cleaned.index.set_names(['indicator', 'date'], inplace=True)\n",
    "\n",
    "t_merged_df.to_csv(\"technical_data.csv\")\n",
    "t_merged_df_cleaned.to_csv(\"technical_data_cleaned.csv\") # 剩200多檔\n"
   ]
  },
  {
   "cell_type": "code",
   "execution_count": 5,
   "metadata": {},
   "outputs": [],
   "source": [
    "\n",
    "# 原始財報資料\n",
    "financial_data_cleaned = pd.read_csv(\"financial_data_cleaned.csv\", index_col=[0, 1])\n",
    "\n",
    "# 技術面的資料\n",
    "technical_data = pd.read_csv(\"technical_data.csv\", index_col=[0, 1])\n",
    "\n",
    "common_symbols = financial_data_cleaned.columns.intersection(technical_data.columns)\n",
    "# 在兩個 DataFrame 中只保留共同的股票代碼\n",
    "c_financial_data = financial_data_cleaned[common_symbols]\n",
    "c_technical_data = technical_data[common_symbols]\n",
    "c_technical_data.to_csv(\"common_technical_data.csv\")\n",
    "\n",
    "merged_data = pd.concat([c_financial_data, c_technical_data])\n",
    "\n",
    "# 將索引層級名稱分別設置為 '財務項目' 和 '日期'\n",
    "merged_data.index.set_names(['indicator', 'date'], inplace=True)\n",
    "# 將 DataFrame 存儲為 CSV 文件\n",
    "merged_data.to_csv('merged_data.csv')"
   ]
  },
  {
   "cell_type": "markdown",
   "metadata": {},
   "source": [
    "股票代碼和產業類別"
   ]
  },
  {
   "cell_type": "code",
   "execution_count": 6,
   "metadata": {},
   "outputs": [],
   "source": [
    "# 將股票代碼和產業類別映射成字典\n",
    "stock_to_company= dict(zip(company_info['stock_id'], company_info['公司名稱']))\n",
    "stock_to_industry = dict(zip(company_info['stock_id'], company_info['產業類別']))\n",
    "\n",
    "# 轉置 DataFrame，使得股票代碼成為列而不是索引\n",
    "merged_data_transposed = merged_data.T\n",
    "\n",
    "# 根據股票代碼添加產業類別到 merged_data 中\n",
    "merged_data_transposed['公司名稱'] = merged_data_transposed.index.map(stock_to_company)\n",
    "merged_data_transposed['產業類別'] = merged_data_transposed.index.map(stock_to_industry)\n",
    "\n",
    "\n",
    "# 再次轉置 DataFrame 回原始形式\n",
    "merged_data_with_industry = merged_data_transposed.T"
   ]
  }
 ],
 "metadata": {
  "kernelspec": {
   "display_name": "data_science",
   "language": "python",
   "name": "python3"
  },
  "language_info": {
   "codemirror_mode": {
    "name": "ipython",
    "version": 3
   },
   "file_extension": ".py",
   "mimetype": "text/x-python",
   "name": "python",
   "nbconvert_exporter": "python",
   "pygments_lexer": "ipython3",
   "version": "3.10.13"
  }
 },
 "nbformat": 4,
 "nbformat_minor": 2
}
